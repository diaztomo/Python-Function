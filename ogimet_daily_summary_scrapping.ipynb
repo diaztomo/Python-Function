{
  "nbformat": 4,
  "nbformat_minor": 0,
  "metadata": {
    "colab": {
      "name": "ogimet_daily_summary_scrapping",
      "provenance": [],
      "authorship_tag": "ABX9TyMabNqRdYI/PsmbDD6pm2oI",
      "include_colab_link": true
    },
    "kernelspec": {
      "name": "python3",
      "display_name": "Python 3"
    },
    "language_info": {
      "name": "python"
    }
  },
  "cells": [
    {
      "cell_type": "markdown",
      "metadata": {
        "id": "view-in-github",
        "colab_type": "text"
      },
      "source": [
        "<a href=\"https://colab.research.google.com/github/diaztomo/Python-Function/blob/main/ogimet_daily_summary_scrapping.ipynb\" target=\"_parent\"><img src=\"https://colab.research.google.com/assets/colab-badge.svg\" alt=\"Open In Colab\"/></a>"
      ]
    },
    {
      "cell_type": "code",
      "metadata": {
        "colab": {
          "base_uri": "https://localhost:8080/",
          "height": 423
        },
        "id": "JL4E9R_rGO0-",
        "outputId": "0021e310-f1d4-4b10-fbf0-c890a7fce4ef"
      },
      "source": [
        "import requests\n",
        "from bs4 import BeautifulSoup as bs\n",
        "import pandas as pd\n",
        "\n",
        "\n",
        "datalist = []\n",
        "years = [\"2016\",\"2017\",\"2018\",\"2019\",\"2020\"] #Tahun yang dipilih\n",
        "for year in years :\n",
        "  wmo_index = \"96749\"                     #Nama Stasiun\n",
        "  ndays = \"31\"                            # Banyak hari yang ditampilkan\n",
        "  year = year                             # Tahun\n",
        "  mon = [\"01\",\"02\",\"03\",\"04\",\"05\",\"06\",   # Bulan\n",
        "        \"07\",\"08\",\"09\",\"10\",\"11\",\"12\"]\n",
        "  day = \"31\"                              # Dimulai/diakhiri tanggal \n",
        "  hora = \"00\"                             # DIR dari tanggal tua ke muda\n",
        "  lord = \"DIR\"\n",
        "\n",
        "\n",
        "  for mo in mon :\n",
        "    url = \"https://www.ogimet.com/cgi-bin/gsynres?lang=en&ind=\"+\"96749&ndays=\"+ndays+\"&ano=\"+year+\"&mes=\"+mo+\"&day=\"+day+\"&hora=\"+hora+\"&ord=\"+\"DIR&Send=Send\"\n",
        "    page = requests.get(url)\n",
        "    soup = bs(page.text,\"lxml\")\n",
        "    tabel = soup.find_all(\"table\", id =None)[2]\n",
        "    #\"https://www.ogimet.com/cgi-bin/gsynres?lang=en&ind=96749&ndays=30&ano=2020&mes=11&day=28&hora=06&ord=REV&Send=Send\"\n",
        "    headers = [\"date\",\"min_temp\",\"max_temp\",\"avg_temp\",\"td_avg\",\"hr_avg\",\"win_dir\",\"wind_int\",\"pres_lv\",\"prec\",\"tot_cl\",\"low_cl\",\"sun_d1\",\"vis\",\n",
        "            \"1\",\"2\",\"3\",\"4\",\"5\",\"6\",\"7\",\"8\"]\n",
        "    \n",
        "    for j in tabel.find_all(\"tr\")[2:]:\n",
        "      row_data = j.find_all(\"td\")\n",
        "      row = []\n",
        "      for i in row_data:\n",
        "        row.append(i.text)\n",
        "\n",
        "      datalist.append(row)\n",
        "\n",
        "\n",
        "\n",
        "data1 = pd.DataFrame(datalist,columns=headers)\n",
        "data1.drop_duplicates(inplace=True)\n",
        "data1.drop([\"1\",\"2\",\"3\",\"4\",\"5\",\"6\",\"7\",\"8\"],axis=1,inplace=True)\n",
        "data1.to_csv(\"data_ogimet.csv\")\n",
        "\n",
        "\n",
        "\n",
        "\n",
        "\n",
        "\n",
        "\n",
        "          "
      ],
      "execution_count": 3,
      "outputs": [
        {
          "output_type": "execute_result",
          "data": {
            "text/html": [
              "<div>\n",
              "<style scoped>\n",
              "    .dataframe tbody tr th:only-of-type {\n",
              "        vertical-align: middle;\n",
              "    }\n",
              "\n",
              "    .dataframe tbody tr th {\n",
              "        vertical-align: top;\n",
              "    }\n",
              "\n",
              "    .dataframe thead th {\n",
              "        text-align: right;\n",
              "    }\n",
              "</style>\n",
              "<table border=\"1\" class=\"dataframe\">\n",
              "  <thead>\n",
              "    <tr style=\"text-align: right;\">\n",
              "      <th></th>\n",
              "      <th>0</th>\n",
              "    </tr>\n",
              "  </thead>\n",
              "  <tbody>\n",
              "    <tr>\n",
              "      <th>0</th>\n",
              "      <td>14.0</td>\n",
              "    </tr>\n",
              "    <tr>\n",
              "      <th>1</th>\n",
              "      <td>NaN</td>\n",
              "    </tr>\n",
              "    <tr>\n",
              "      <th>2</th>\n",
              "      <td>0.0</td>\n",
              "    </tr>\n",
              "    <tr>\n",
              "      <th>3</th>\n",
              "      <td>0.0</td>\n",
              "    </tr>\n",
              "    <tr>\n",
              "      <th>4</th>\n",
              "      <td>0.0</td>\n",
              "    </tr>\n",
              "    <tr>\n",
              "      <th>...</th>\n",
              "      <td>...</td>\n",
              "    </tr>\n",
              "    <tr>\n",
              "      <th>1822</th>\n",
              "      <td>0.2</td>\n",
              "    </tr>\n",
              "    <tr>\n",
              "      <th>1823</th>\n",
              "      <td>0.0</td>\n",
              "    </tr>\n",
              "    <tr>\n",
              "      <th>1824</th>\n",
              "      <td>0.2</td>\n",
              "    </tr>\n",
              "    <tr>\n",
              "      <th>1825</th>\n",
              "      <td>0.0</td>\n",
              "    </tr>\n",
              "    <tr>\n",
              "      <th>1826</th>\n",
              "      <td>16.0</td>\n",
              "    </tr>\n",
              "  </tbody>\n",
              "</table>\n",
              "<p>1827 rows × 1 columns</p>\n",
              "</div>"
            ],
            "text/plain": [
              "         0\n",
              "0     14.0\n",
              "1      NaN\n",
              "2      0.0\n",
              "3      0.0\n",
              "4      0.0\n",
              "...    ...\n",
              "1822   0.2\n",
              "1823   0.0\n",
              "1824   0.2\n",
              "1825   0.0\n",
              "1826  16.0\n",
              "\n",
              "[1827 rows x 1 columns]"
            ]
          },
          "metadata": {},
          "execution_count": 3
        }
      ]
    },
    {
      "cell_type": "code",
      "metadata": {
        "id": "51qZfiTnXYiS"
      },
      "source": [
        "prec = data1.prec\n",
        "prec\n",
        "clean =[]\n",
        "for i in prec:\n",
        "  if (i)==\"Tr\" :\n",
        "    clean.append(0)\n",
        "  else :\n",
        "    clean.append(i)\n",
        "\n",
        "clean = pd.DataFrame(clean)\n",
        "clean.apply(pd.to_numeric, errors=\"coerce\")"
      ],
      "execution_count": null,
      "outputs": []
    },
    {
      "cell_type": "code",
      "metadata": {
        "id": "xq4UM-uOtjCK"
      },
      "source": [
        ""
      ],
      "execution_count": null,
      "outputs": []
    }
  ]
}